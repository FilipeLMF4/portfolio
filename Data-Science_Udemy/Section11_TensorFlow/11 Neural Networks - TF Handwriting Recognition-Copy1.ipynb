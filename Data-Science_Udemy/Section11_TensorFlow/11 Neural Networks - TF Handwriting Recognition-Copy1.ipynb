{
 "cells": [
  {
   "cell_type": "markdown",
   "id": "394b0ca1-561b-49cc-98dc-7086ce73b9d3",
   "metadata": {},
   "source": [
    "# NOTE: Code adapted to work with TensorFlow v1. Recommend to use V2 (integrated Keras). Examples only for learning purposes"
   ]
  },
  {
   "cell_type": "markdown",
   "id": "bbc381af-c616-4f82-92b5-f6bf69006e10",
   "metadata": {},
   "source": [
    "# Imports"
   ]
  },
  {
   "cell_type": "code",
   "execution_count": 3,
   "id": "309ce7bc-2d8a-4cb9-a333-f5486b30fd48",
   "metadata": {},
   "outputs": [],
   "source": [
    "from numpy.random import seed\n",
    "seed(888)\n",
    "\n",
    "from tensorflow import random\n",
    "random.set_seed(404)"
   ]
  },
  {
   "cell_type": "code",
   "execution_count": 592,
   "id": "92cd85f4-da52-4ced-8cc4-73eee888104e",
   "metadata": {},
   "outputs": [],
   "source": [
    "import os\n",
    "import numpy as np\n",
    "import tensorflow as tf\n",
    "\n",
    "from time import strftime\n",
    "from PIL import Image"
   ]
  },
  {
   "cell_type": "markdown",
   "id": "ee22fa00-c4a8-4cdc-8d4d-efe8a4a9ffe5",
   "metadata": {},
   "source": [
    "# Constants"
   ]
  },
  {
   "cell_type": "code",
   "execution_count": 6,
   "id": "3633be5c-1259-49cb-8d0f-9911455fce29",
   "metadata": {},
   "outputs": [],
   "source": [
    "X_TRAIN_PATH = \"MNIST/digit_xtrain.csv\"\n",
    "X_TEST_PATH = \"MNIST/digit_xtest.csv\"\n",
    "Y_TRAIN_PATH = \"MNIST/digit_ytrain.csv\"\n",
    "Y_TEST_PATH = \"MNIST/digit_ytest.csv\"\n",
    "\n",
    "LOGGING_PATH = \"tensorboard_mnist_digit_logs/\"\n",
    "\n",
    "NR_CLASSES = 10\n",
    "\n",
    "VALIDATION_SIZE = 10000\n",
    "\n",
    "IMAGE_WIDTH = 28\n",
    "IMAGE_HEIGHT = 28\n",
    "CHANNELS = 1\n",
    "TOTAL_INPUTS = IMAGE_WIDTH * IMAGE_HEIGHT * CHANNELS\n"
   ]
  },
  {
   "cell_type": "markdown",
   "id": "e0979190-6804-4250-b4d2-46ee51223ab2",
   "metadata": {},
   "source": [
    "# Get the Data"
   ]
  },
  {
   "cell_type": "code",
   "execution_count": 8,
   "id": "75a09d03-5302-42c5-b305-a87960ed8c69",
   "metadata": {},
   "outputs": [
    {
     "name": "stdout",
     "output_type": "stream",
     "text": [
      "CPU times: total: 0 ns\n",
      "Wall time: 9.2 ms\n"
     ]
    }
   ],
   "source": [
    "%%time\n",
    "\n",
    "y_train_all = np.loadtxt(Y_TRAIN_PATH, delimiter=\",\", dtype=int)"
   ]
  },
  {
   "cell_type": "code",
   "execution_count": 9,
   "id": "b3c176a1-6577-4f78-a75b-7f96dd7ef811",
   "metadata": {},
   "outputs": [
    {
     "data": {
      "text/plain": [
       "(60000,)"
      ]
     },
     "execution_count": 9,
     "metadata": {},
     "output_type": "execute_result"
    }
   ],
   "source": [
    "y_train_all.shape"
   ]
  },
  {
   "cell_type": "code",
   "execution_count": 10,
   "id": "47deab48-8b48-4eab-9c7e-56fa6688f8be",
   "metadata": {},
   "outputs": [
    {
     "name": "stdout",
     "output_type": "stream",
     "text": [
      "CPU times: total: 15.6 ms\n",
      "Wall time: 2.43 ms\n"
     ]
    }
   ],
   "source": [
    "%%time\n",
    "\n",
    "y_test = np.loadtxt(Y_TEST_PATH, delimiter=\",\", dtype=int)"
   ]
  },
  {
   "cell_type": "code",
   "execution_count": 11,
   "id": "da833b80-fd33-4ede-a466-1300cb384cb9",
   "metadata": {},
   "outputs": [
    {
     "name": "stdout",
     "output_type": "stream",
     "text": [
      "CPU times: total: 4.25 s\n",
      "Wall time: 4.32 s\n"
     ]
    }
   ],
   "source": [
    "%%time\n",
    "\n",
    "x_train_all = np.loadtxt(X_TRAIN_PATH, delimiter=\",\", dtype=int)"
   ]
  },
  {
   "cell_type": "code",
   "execution_count": 12,
   "id": "4634a557-6d62-4026-a0d9-ceeaa5890ed5",
   "metadata": {},
   "outputs": [
    {
     "name": "stdout",
     "output_type": "stream",
     "text": [
      "CPU times: total: 703 ms\n",
      "Wall time: 726 ms\n"
     ]
    }
   ],
   "source": [
    "%%time\n",
    "\n",
    "x_test = np.loadtxt(X_TEST_PATH, delimiter=\",\", dtype=int)"
   ]
  },
  {
   "cell_type": "markdown",
   "id": "ad2ec58a-aa3c-4c9f-868a-8f91512adeb6",
   "metadata": {},
   "source": [
    "# Explore"
   ]
  },
  {
   "cell_type": "code",
   "execution_count": 14,
   "id": "c83e5b51-3d0a-40f3-b928-c66f92d3dc9e",
   "metadata": {},
   "outputs": [
    {
     "data": {
      "text/plain": [
       "(60000, 784)"
      ]
     },
     "execution_count": 14,
     "metadata": {},
     "output_type": "execute_result"
    }
   ],
   "source": [
    "x_train_all.shape"
   ]
  },
  {
   "cell_type": "code",
   "execution_count": 15,
   "id": "df6421a9-bc77-4843-b5ac-df454fc912c8",
   "metadata": {
    "scrolled": true
   },
   "outputs": [
    {
     "data": {
      "text/plain": [
       "array([  0,   0,   0,   0,   0,   0,   0,   0,   0,   0,   0,   0,   0,\n",
       "         0,   0,   0,   0,   0,   0,   0,   0,   0,   0,   0,   0,   0,\n",
       "         0,   0,   0,   0,   0,   0,   0,   0,   0,   0,   0,   0,   0,\n",
       "         0,   0,   0,   0,   0,   0,   0,   0,   0,   0,   0,   0,   0,\n",
       "         0,   0,   0,   0,   0,   0,   0,   0,   0,   0,   0,   0,   0,\n",
       "         0,   0,   0,   0,   0,   0,   0,   0,   0,   0,   0,   0,   0,\n",
       "         0,   0,   0,   0,   0,   0,   0,   0,   0,   0,   0,   0,   0,\n",
       "         0,   0,   0,   0,   0,   0,   0,   0,   0,   0,   0,   0,   0,\n",
       "         0,   0,   0,   0,   0,   0,   0,   0,   0,   0,   0,   0,   0,\n",
       "         0,   0,   0,   0,   0,   0,   0,   0,   0,   0,   0,   0,   0,\n",
       "         0,   0,   0,   0,   0,   0,   0,   0,   0,   0,   0,   0,   0,\n",
       "         0,   0,   0,   0,   0,   0,   0,   0,   0,   3,  18,  18,  18,\n",
       "       126, 136, 175,  26, 166, 255, 247, 127,   0,   0,   0,   0,   0,\n",
       "         0,   0,   0,   0,   0,   0,   0,  30,  36,  94, 154, 170, 253,\n",
       "       253, 253, 253, 253, 225, 172, 253, 242, 195,  64,   0,   0,   0,\n",
       "         0,   0,   0,   0,   0,   0,   0,   0,  49, 238, 253, 253, 253,\n",
       "       253, 253, 253, 253, 253, 251,  93,  82,  82,  56,  39,   0,   0,\n",
       "         0,   0,   0,   0,   0,   0,   0,   0,   0,   0,  18, 219, 253,\n",
       "       253, 253, 253, 253, 198, 182, 247, 241,   0,   0,   0,   0,   0,\n",
       "         0,   0,   0,   0,   0,   0,   0,   0,   0,   0,   0,   0,   0,\n",
       "        80, 156, 107, 253, 253, 205,  11,   0,  43, 154,   0,   0,   0,\n",
       "         0,   0,   0,   0,   0,   0,   0,   0,   0,   0,   0,   0,   0,\n",
       "         0,   0,   0,  14,   1, 154, 253,  90,   0,   0,   0,   0,   0,\n",
       "         0,   0,   0,   0,   0,   0,   0,   0,   0,   0,   0,   0,   0,\n",
       "         0,   0,   0,   0,   0,   0,   0, 139, 253, 190,   2,   0,   0,\n",
       "         0,   0,   0,   0,   0,   0,   0,   0,   0,   0,   0,   0,   0,\n",
       "         0,   0,   0,   0,   0,   0,   0,   0,   0,  11, 190, 253,  70,\n",
       "         0,   0,   0,   0,   0,   0,   0,   0,   0,   0,   0,   0,   0,\n",
       "         0,   0,   0,   0,   0,   0,   0,   0,   0,   0,   0,   0,  35,\n",
       "       241, 225, 160, 108,   1,   0,   0,   0,   0,   0,   0,   0,   0,\n",
       "         0,   0,   0,   0,   0,   0,   0,   0,   0,   0,   0,   0,   0,\n",
       "         0,   0,  81, 240, 253, 253, 119,  25,   0,   0,   0,   0,   0,\n",
       "         0,   0,   0,   0,   0,   0,   0,   0,   0,   0,   0,   0,   0,\n",
       "         0,   0,   0,   0,   0,  45, 186, 253, 253, 150,  27,   0,   0,\n",
       "         0,   0,   0,   0,   0,   0,   0,   0,   0,   0,   0,   0,   0,\n",
       "         0,   0,   0,   0,   0,   0,   0,   0,  16,  93, 252, 253, 187,\n",
       "         0,   0,   0,   0,   0,   0,   0,   0,   0,   0,   0,   0,   0,\n",
       "         0,   0,   0,   0,   0,   0,   0,   0,   0,   0,   0,   0, 249,\n",
       "       253, 249,  64,   0,   0,   0,   0,   0,   0,   0,   0,   0,   0,\n",
       "         0,   0,   0,   0,   0,   0,   0,   0,   0,   0,   0,  46, 130,\n",
       "       183, 253, 253, 207,   2,   0,   0,   0,   0,   0,   0,   0,   0,\n",
       "         0,   0,   0,   0,   0,   0,   0,   0,   0,   0,   0,  39, 148,\n",
       "       229, 253, 253, 253, 250, 182,   0,   0,   0,   0,   0,   0,   0,\n",
       "         0,   0,   0,   0,   0,   0,   0,   0,   0,   0,   0,  24, 114,\n",
       "       221, 253, 253, 253, 253, 201,  78,   0,   0,   0,   0,   0,   0,\n",
       "         0,   0,   0,   0,   0,   0,   0,   0,   0,   0,   0,  23,  66,\n",
       "       213, 253, 253, 253, 253, 198,  81,   2,   0,   0,   0,   0,   0,\n",
       "         0,   0,   0,   0,   0,   0,   0,   0,   0,   0,   0,  18, 171,\n",
       "       219, 253, 253, 253, 253, 195,  80,   9,   0,   0,   0,   0,   0,\n",
       "         0,   0,   0,   0,   0,   0,   0,   0,   0,   0,   0,  55, 172,\n",
       "       226, 253, 253, 253, 253, 244, 133,  11,   0,   0,   0,   0,   0,\n",
       "         0,   0,   0,   0,   0,   0,   0,   0,   0,   0,   0,   0,   0,\n",
       "       136, 253, 253, 253, 212, 135, 132,  16,   0,   0,   0,   0,   0,\n",
       "         0,   0,   0,   0,   0,   0,   0,   0,   0,   0,   0,   0,   0,\n",
       "         0,   0,   0,   0,   0,   0,   0,   0,   0,   0,   0,   0,   0,\n",
       "         0,   0,   0,   0,   0,   0,   0,   0,   0,   0,   0,   0,   0,\n",
       "         0,   0,   0,   0,   0,   0,   0,   0,   0,   0,   0,   0,   0,\n",
       "         0,   0,   0,   0,   0,   0,   0,   0,   0,   0,   0,   0,   0,\n",
       "         0,   0,   0,   0,   0,   0,   0,   0,   0,   0,   0,   0,   0,\n",
       "         0,   0,   0,   0,   0,   0,   0,   0,   0,   0,   0,   0,   0,\n",
       "         0,   0,   0,   0])"
      ]
     },
     "execution_count": 15,
     "metadata": {},
     "output_type": "execute_result"
    }
   ],
   "source": [
    "x_train_all[0]"
   ]
  },
  {
   "cell_type": "code",
   "execution_count": 16,
   "id": "48c2f512-5320-43f3-8aa9-4156a428b1a3",
   "metadata": {},
   "outputs": [
    {
     "data": {
      "text/plain": [
       "(10000, 784)"
      ]
     },
     "execution_count": 16,
     "metadata": {},
     "output_type": "execute_result"
    }
   ],
   "source": [
    "x_test.shape"
   ]
  },
  {
   "cell_type": "code",
   "execution_count": 17,
   "id": "c54f2dca-5f3f-45a2-b9e8-044ef0a85356",
   "metadata": {},
   "outputs": [
    {
     "data": {
      "text/plain": [
       "array([5, 0, 4, 1, 9])"
      ]
     },
     "execution_count": 17,
     "metadata": {},
     "output_type": "execute_result"
    }
   ],
   "source": [
    "y_train_all[:5]"
   ]
  },
  {
   "cell_type": "markdown",
   "id": "57b6a492-e9dd-4cc7-90af-50d39b4b6763",
   "metadata": {},
   "source": [
    "# Data Preprocessing"
   ]
  },
  {
   "cell_type": "code",
   "execution_count": 19,
   "id": "9599b5cd-0b9b-4585-8fae-2537e57e2378",
   "metadata": {},
   "outputs": [],
   "source": [
    "# Re-Scale\n",
    "x_train_all, x_test = x_train_all / 255.0, x_test / 255.0"
   ]
  },
  {
   "cell_type": "markdown",
   "id": "a0939a87-02b6-4864-866d-e2c06fc7ebe1",
   "metadata": {},
   "source": [
    "#### Convert target values to one-hot encoding"
   ]
  },
  {
   "cell_type": "code",
   "execution_count": 21,
   "id": "e633e2f6-0dd9-487a-b112-d12facbf6c48",
   "metadata": {},
   "outputs": [
    {
     "data": {
      "text/plain": [
       "array([[0., 0., 0., 0., 0., 1., 0., 0., 0., 0.],\n",
       "       [1., 0., 0., 0., 0., 0., 0., 0., 0., 0.],\n",
       "       [0., 0., 0., 0., 1., 0., 0., 0., 0., 0.],\n",
       "       [0., 1., 0., 0., 0., 0., 0., 0., 0., 0.],\n",
       "       [0., 0., 0., 0., 0., 0., 0., 0., 0., 1.]])"
      ]
     },
     "execution_count": 21,
     "metadata": {},
     "output_type": "execute_result"
    }
   ],
   "source": [
    "values = y_train_all[:5]\n",
    "np.eye(10)[values]"
   ]
  },
  {
   "cell_type": "code",
   "execution_count": 22,
   "id": "340c981f-86e5-4a40-8a12-4da9bcf89370",
   "metadata": {},
   "outputs": [
    {
     "data": {
      "text/plain": [
       "array([0., 0., 1., 0., 0., 0., 0., 0., 0., 0.])"
      ]
     },
     "execution_count": 22,
     "metadata": {},
     "output_type": "execute_result"
    }
   ],
   "source": [
    "np.eye(10)[2] #Extract third row of first array"
   ]
  },
  {
   "cell_type": "code",
   "execution_count": 23,
   "id": "d482861f-26f9-462b-aebb-ac3664bfb250",
   "metadata": {},
   "outputs": [
    {
     "data": {
      "text/plain": [
       "1"
      ]
     },
     "execution_count": 23,
     "metadata": {},
     "output_type": "execute_result"
    }
   ],
   "source": [
    "values[3]"
   ]
  },
  {
   "cell_type": "code",
   "execution_count": 24,
   "id": "de270a7f-a464-41a4-9ef2-8a4b781aee86",
   "metadata": {},
   "outputs": [],
   "source": [
    "y_train_all = np.eye(NR_CLASSES)[y_train_all]"
   ]
  },
  {
   "cell_type": "code",
   "execution_count": 25,
   "id": "f0a10291-10cc-491d-ba87-f790686e49aa",
   "metadata": {},
   "outputs": [
    {
     "data": {
      "text/plain": [
       "(60000, 10)"
      ]
     },
     "execution_count": 25,
     "metadata": {},
     "output_type": "execute_result"
    }
   ],
   "source": [
    "y_train_all.shape"
   ]
  },
  {
   "cell_type": "code",
   "execution_count": 26,
   "id": "871da7b9-c7cb-48bd-8051-bd43eea3bfcd",
   "metadata": {},
   "outputs": [],
   "source": [
    "y_test = np.eye(NR_CLASSES)[y_test]"
   ]
  },
  {
   "cell_type": "code",
   "execution_count": 27,
   "id": "db003adc-bd12-4005-9695-6c462945113f",
   "metadata": {},
   "outputs": [
    {
     "data": {
      "text/plain": [
       "(10000, 10)"
      ]
     },
     "execution_count": 27,
     "metadata": {},
     "output_type": "execute_result"
    }
   ],
   "source": [
    "y_test.shape"
   ]
  },
  {
   "cell_type": "markdown",
   "id": "68e78170-599e-4a9c-b260-23ac1a461ff0",
   "metadata": {},
   "source": [
    "### Create validation dataset from training data"
   ]
  },
  {
   "cell_type": "code",
   "execution_count": 29,
   "id": "a6d32812-fb0f-49b1-8577-33deda7380dc",
   "metadata": {},
   "outputs": [],
   "source": [
    "x_val, x_train = x_train_all[:VALIDATION_SIZE], x_train_all[VALIDATION_SIZE:]\n",
    "y_val, y_train = y_train_all[:VALIDATION_SIZE], y_train_all[VALIDATION_SIZE:]"
   ]
  },
  {
   "cell_type": "code",
   "execution_count": 30,
   "id": "c876b08b-22f3-4774-b6c2-c135743e08eb",
   "metadata": {},
   "outputs": [
    {
     "data": {
      "text/plain": [
       "(50000, 784)"
      ]
     },
     "execution_count": 30,
     "metadata": {},
     "output_type": "execute_result"
    }
   ],
   "source": [
    "x_train.shape"
   ]
  },
  {
   "cell_type": "code",
   "execution_count": 31,
   "id": "5ca21ae1-06c2-45b4-81cd-1777aa3c7c4b",
   "metadata": {},
   "outputs": [
    {
     "data": {
      "text/plain": [
       "(10000, 784)"
      ]
     },
     "execution_count": 31,
     "metadata": {},
     "output_type": "execute_result"
    }
   ],
   "source": [
    "x_val.shape"
   ]
  },
  {
   "cell_type": "markdown",
   "id": "801e922d-01d0-42d0-80a2-3a1e13dfb2bc",
   "metadata": {},
   "source": [
    "# Setup Tensorflow Graph"
   ]
  },
  {
   "cell_type": "code",
   "execution_count": 691,
   "id": "889bc4f3-7635-4301-84bb-5489a66c5e11",
   "metadata": {},
   "outputs": [],
   "source": [
    "tf.compat.v1.disable_v2_behavior()\n",
    "\n",
    "X = tf.compat.v1.placeholder(tf.float32, shape=[None, TOTAL_INPUTS], name=\"X\")\n",
    "Y = tf.compat.v1.placeholder(tf.float32, shape=[None, NR_CLASSES], name=\"labels\")"
   ]
  },
  {
   "cell_type": "markdown",
   "id": "a1a97d61-54e6-4497-bd11-c8f8992ebc4c",
   "metadata": {},
   "source": [
    "### Neural Network Architecture\n",
    "\n",
    "#### Hyperparameters"
   ]
  },
  {
   "cell_type": "code",
   "execution_count": 693,
   "id": "3ef117e9-b279-49f8-9958-bf246e9a38d3",
   "metadata": {},
   "outputs": [],
   "source": [
    "nr_epochs = 50\n",
    "learning_rate = 1e-3\n",
    "\n",
    "n_hidden1 = 512\n",
    "n_hidden2 = 64"
   ]
  },
  {
   "cell_type": "code",
   "execution_count": 694,
   "id": "c42fe5db-ac6d-4218-8828-8ba3e9737daf",
   "metadata": {},
   "outputs": [],
   "source": [
    "def setup_layer(input, weight_dim, bias_dim, name):\n",
    "    \n",
    "    with tf.name_scope(name):\n",
    "        initial_w = tf.compat.v1.truncated_normal(shape=weight_dim, stddev=0.1, seed=42)\n",
    "        w = tf.Variable(initial_value=initial_w, name=\"W\")\n",
    "        \n",
    "        initial_b = tf.constant(value=0.0, shape=bias_dim)\n",
    "        b = tf.Variable(initial_value=initial_b, name=\"B\")\n",
    "        \n",
    "        layer_in = tf.matmul(input, w) + b\n",
    "\n",
    "        if name==\"out\":\n",
    "            layer_out = tf.nn.softmax(layer_in)\n",
    "        else:\n",
    "            layer_out = tf.nn.relu(layer_in)\n",
    "\n",
    "        tf.compat.v1.summary.histogram(\"weights\", w)\n",
    "        tf.compat.v1.summary.histogram(\"bias\", b)\n",
    "        return layer_out"
   ]
  },
  {
   "cell_type": "code",
   "execution_count": 695,
   "id": "8e140b7e-244f-4172-8d7b-27f4d329da2a",
   "metadata": {},
   "outputs": [],
   "source": [
    "# Model without Dropout\n",
    "\n",
    "# layer_1 = setup_layer(X, weight_dim=[TOTAL_INPUTS, n_hidden1], bias_dim=[n_hidden1], name=\"layer_1\")\n",
    "# layer_2 = setup_layer(layer_1, weight_dim=[n_hidden1, n_hidden2], bias_dim=[n_hidden2], name=\"layer_2\")\n",
    "# output = setup_layer(layer_2, weight_dim=[n_hidden2, NR_CLASSES], bias_dim=[NR_CLASSES], name=\"out\")\n",
    "\n",
    "# model_name = f\"{n_hidden1}-{n_hidden2} LR{learning_rate} E{nr_epochs}\""
   ]
  },
  {
   "cell_type": "code",
   "execution_count": 696,
   "id": "c64afafe-52a3-48c9-97e2-9d2a4c21118d",
   "metadata": {},
   "outputs": [],
   "source": [
    "#Model with Dropout layer\n",
    "\n",
    "layer_1 = setup_layer(X, weight_dim=[TOTAL_INPUTS, n_hidden1], bias_dim=[n_hidden1], name=\"layer_1\")\n",
    "\n",
    "layer_drop = tf.nn.dropout(layer_1, rate=0.2, name=\"dropout_layer\")\n",
    "\n",
    "layer_2 = setup_layer(layer_drop, weight_dim=[n_hidden1, n_hidden2], bias_dim=[n_hidden2], name=\"layer_2\")\n",
    "output = setup_layer(layer_2, weight_dim=[n_hidden2, NR_CLASSES], bias_dim=[NR_CLASSES], name=\"out\")\n",
    "\n",
    "model_name = f\"{n_hidden1}-DO-{n_hidden2} LR{learning_rate} E{nr_epochs}\""
   ]
  },
  {
   "cell_type": "markdown",
   "id": "01681164-16b1-4b9c-aee8-9c023bea282d",
   "metadata": {},
   "source": [
    "# Tensorboard Setup"
   ]
  },
  {
   "cell_type": "code",
   "execution_count": 698,
   "id": "a283704f-210c-49e9-b459-742c108ceae8",
   "metadata": {},
   "outputs": [
    {
     "name": "stdout",
     "output_type": "stream",
     "text": [
      "Successfully created directories!\n"
     ]
    }
   ],
   "source": [
    "# Folder for Tensorboard\n",
    "\n",
    "folder_name = f\"{model_name} at {strftime('%H%M')}\"\n",
    "directory = os.path.join(LOGGING_PATH, folder_name)\n",
    "\n",
    "try:\n",
    "    os.makedirs(directory)\n",
    "except OSError as exception:\n",
    "    print(exception.strerror)\n",
    "else:\n",
    "    print(\"Successfully created directories!\")"
   ]
  },
  {
   "cell_type": "markdown",
   "id": "81d6e517-1e02-40ab-a6b1-7b48a99f8595",
   "metadata": {},
   "source": [
    "# Loss, Optimization & Metrics"
   ]
  },
  {
   "cell_type": "markdown",
   "id": "b38d9bc8-9e60-4857-a8de-a6698d0da32b",
   "metadata": {},
   "source": [
    "#### Defining Loss function"
   ]
  },
  {
   "cell_type": "code",
   "execution_count": 701,
   "id": "effa5c6f-de4d-4241-84ab-0d86e01ccc1f",
   "metadata": {},
   "outputs": [],
   "source": [
    "with tf.name_scope(\"loss_calc\"):\n",
    "    loss = tf.reduce_mean(tf.nn.softmax_cross_entropy_with_logits(labels=Y, logits=output))"
   ]
  },
  {
   "cell_type": "markdown",
   "id": "b6cc25b7-0e0d-46d5-a75d-745b35f88c62",
   "metadata": {},
   "source": [
    "#### Defining Optimizer"
   ]
  },
  {
   "cell_type": "code",
   "execution_count": 703,
   "id": "57d9e3da-488e-4ec8-96e3-1d1587d0872c",
   "metadata": {},
   "outputs": [],
   "source": [
    "with tf.name_scope(\"optimizer\"):\n",
    "    optimizer = tf.compat.v1.train.AdamOptimizer(learning_rate)\n",
    "    train_step = optimizer.minimize(loss)"
   ]
  },
  {
   "cell_type": "markdown",
   "id": "1eeb9437-64c2-43ff-a3a4-376288b04209",
   "metadata": {},
   "source": [
    "#### Accuracy Metric"
   ]
  },
  {
   "cell_type": "code",
   "execution_count": 705,
   "id": "e2983b5b-4be2-4c30-932d-a96a57279a46",
   "metadata": {},
   "outputs": [],
   "source": [
    "with tf.name_scope(\"accuracy_cal\"):\n",
    "    correct_pred = tf.equal(tf.argmax(output, axis=1), tf.argmax(Y, axis=1))\n",
    "    accuracy = tf.reduce_mean(tf.cast(correct_pred, tf.float32))"
   ]
  },
  {
   "cell_type": "code",
   "execution_count": 706,
   "id": "a1e9c7ae-bc89-4f39-87f8-25888213807a",
   "metadata": {},
   "outputs": [],
   "source": [
    "with tf.name_scope(\"performance\"):\n",
    "    tf.compat.v1.summary.scalar(\"accuracy\", accuracy)\n",
    "    tf.compat.v1.summary.scalar(\"cost\", loss)"
   ]
  },
  {
   "cell_type": "markdown",
   "id": "c30cae38-908e-48d5-9e83-81b26e5aaa9d",
   "metadata": {},
   "source": [
    "#### Check Input Images in Tensorboard"
   ]
  },
  {
   "cell_type": "code",
   "execution_count": 708,
   "id": "67d2a4e9-fc90-419d-b756-4e074b89ace1",
   "metadata": {},
   "outputs": [],
   "source": [
    "with tf.name_scope(\"show_image\"):\n",
    "    x_image = tf.reshape(X, [-1, 28, 28, 1])\n",
    "    tf.compat.v1.summary.image(\"image_input\", x_image, max_outputs=4)"
   ]
  },
  {
   "cell_type": "markdown",
   "id": "6da9bbe1-4ca4-4b03-8151-febd070f78e9",
   "metadata": {},
   "source": [
    "# Run Session"
   ]
  },
  {
   "cell_type": "code",
   "execution_count": 710,
   "id": "de0bb8b9-ece8-42f9-9d72-e9368f328557",
   "metadata": {},
   "outputs": [],
   "source": [
    "sess = tf.compat.v1.Session()"
   ]
  },
  {
   "cell_type": "markdown",
   "id": "b97adaa1-b5da-457b-b19a-2c1762bfe478",
   "metadata": {},
   "source": [
    "#### Setup Filewriter and Merge Summaries"
   ]
  },
  {
   "cell_type": "code",
   "execution_count": 712,
   "id": "6240ffdf-6fd1-4582-997d-2e94357bc520",
   "metadata": {},
   "outputs": [],
   "source": [
    "merged_summary = tf.compat.v1.summary.merge_all()\n",
    "\n",
    "train_writer = tf.compat.v1.summary.FileWriter(directory + '/train')\n",
    "validation_writer = tf.compat.v1.summary.FileWriter(directory + '/validation')\n",
    "\n",
    "train_writer.add_graph(sess.graph)"
   ]
  },
  {
   "cell_type": "code",
   "execution_count": 713,
   "id": "316e90fd-b2a7-463e-a6a2-f079498813cb",
   "metadata": {},
   "outputs": [],
   "source": [
    "# Initialise all the variables\n",
    "init = tf.compat.v1.global_variables_initializer()\n",
    "sess.run(init)"
   ]
  },
  {
   "cell_type": "markdown",
   "id": "5c7f28e4-3851-49e7-820c-71787cfd9b02",
   "metadata": {},
   "source": [
    "## Batching the Data"
   ]
  },
  {
   "cell_type": "code",
   "execution_count": 715,
   "id": "0929f14a-8c46-477a-8533-9e603b9ccb8b",
   "metadata": {},
   "outputs": [],
   "source": [
    "size_of_batch = 1000"
   ]
  },
  {
   "cell_type": "code",
   "execution_count": 716,
   "id": "47a4c52d-3708-43c0-92cc-510d082b4c63",
   "metadata": {},
   "outputs": [],
   "source": [
    "num_examples = y_train.shape[0]\n",
    "nr_iterations = int(num_examples / size_of_batch)\n",
    "\n",
    "index_in_epoch = 0"
   ]
  },
  {
   "cell_type": "code",
   "execution_count": 717,
   "id": "4f4088f2-3fa1-45cb-8d10-e2931cf68419",
   "metadata": {},
   "outputs": [],
   "source": [
    "def next_batch(batch_size, data, labels):\n",
    "\n",
    "    global num_examples\n",
    "    global index_in_epoch\n",
    "\n",
    "    start = index_in_epoch\n",
    "    index_in_epoch += size_of_batch\n",
    "\n",
    "    if index_in_epoch > num_examples:\n",
    "        start = 0\n",
    "        index_in_epoch = batch_size\n",
    "        \n",
    "    end = index_in_epoch\n",
    "\n",
    "    return data[start:end], labels[start:end]"
   ]
  },
  {
   "cell_type": "markdown",
   "id": "36e109cc-9002-4973-a354-09aca9573ed9",
   "metadata": {},
   "source": [
    "# Training Loop"
   ]
  },
  {
   "cell_type": "code",
   "execution_count": 719,
   "id": "39a8d711-31d6-4741-b286-759834e2530d",
   "metadata": {},
   "outputs": [
    {
     "name": "stdout",
     "output_type": "stream",
     "text": [
      "Epoch 0 \t| Training Accuracy = 0.8539999723434448\n",
      "Epoch 1 \t| Training Accuracy = 0.8600000143051147\n",
      "Epoch 2 \t| Training Accuracy = 0.8679999709129333\n",
      "Epoch 3 \t| Training Accuracy = 0.8700000047683716\n",
      "Epoch 4 \t| Training Accuracy = 0.8790000081062317\n",
      "Epoch 5 \t| Training Accuracy = 0.8759999871253967\n",
      "Epoch 6 \t| Training Accuracy = 0.8759999871253967\n",
      "Epoch 7 \t| Training Accuracy = 0.9750000238418579\n",
      "Epoch 8 \t| Training Accuracy = 0.9739999771118164\n",
      "Epoch 9 \t| Training Accuracy = 0.9819999933242798\n",
      "Epoch 10 \t| Training Accuracy = 0.9850000143051147\n",
      "Epoch 11 \t| Training Accuracy = 0.984000027179718\n",
      "Epoch 12 \t| Training Accuracy = 0.9850000143051147\n",
      "Epoch 13 \t| Training Accuracy = 0.9860000014305115\n",
      "Epoch 14 \t| Training Accuracy = 0.9890000224113464\n",
      "Epoch 15 \t| Training Accuracy = 0.9879999756813049\n",
      "Epoch 16 \t| Training Accuracy = 0.9890000224113464\n",
      "Epoch 17 \t| Training Accuracy = 0.9919999837875366\n",
      "Epoch 18 \t| Training Accuracy = 0.9879999756813049\n",
      "Epoch 19 \t| Training Accuracy = 0.9909999966621399\n",
      "Epoch 20 \t| Training Accuracy = 0.9879999756813049\n",
      "Epoch 21 \t| Training Accuracy = 0.9919999837875366\n",
      "Epoch 22 \t| Training Accuracy = 0.9879999756813049\n",
      "Epoch 23 \t| Training Accuracy = 0.9890000224113464\n",
      "Epoch 24 \t| Training Accuracy = 0.9909999966621399\n",
      "Epoch 25 \t| Training Accuracy = 0.9909999966621399\n",
      "Epoch 26 \t| Training Accuracy = 0.9909999966621399\n",
      "Epoch 27 \t| Training Accuracy = 0.9919999837875366\n",
      "Epoch 28 \t| Training Accuracy = 0.9919999837875366\n",
      "Epoch 29 \t| Training Accuracy = 0.9909999966621399\n",
      "Epoch 30 \t| Training Accuracy = 0.9900000095367432\n",
      "Epoch 31 \t| Training Accuracy = 0.9909999966621399\n",
      "Epoch 32 \t| Training Accuracy = 0.9919999837875366\n",
      "Epoch 33 \t| Training Accuracy = 0.9929999709129333\n",
      "Epoch 34 \t| Training Accuracy = 0.9929999709129333\n",
      "Epoch 35 \t| Training Accuracy = 0.9919999837875366\n",
      "Epoch 36 \t| Training Accuracy = 0.9929999709129333\n",
      "Epoch 37 \t| Training Accuracy = 0.9919999837875366\n",
      "Epoch 38 \t| Training Accuracy = 0.9929999709129333\n",
      "Epoch 39 \t| Training Accuracy = 0.9929999709129333\n",
      "Epoch 40 \t| Training Accuracy = 0.9940000176429749\n",
      "Epoch 41 \t| Training Accuracy = 0.9929999709129333\n",
      "Epoch 42 \t| Training Accuracy = 0.9940000176429749\n",
      "Epoch 43 \t| Training Accuracy = 0.9940000176429749\n",
      "Epoch 44 \t| Training Accuracy = 0.9940000176429749\n",
      "Epoch 45 \t| Training Accuracy = 0.9929999709129333\n",
      "Epoch 46 \t| Training Accuracy = 0.9929999709129333\n",
      "Epoch 47 \t| Training Accuracy = 0.9940000176429749\n",
      "Epoch 48 \t| Training Accuracy = 0.9940000176429749\n",
      "Epoch 49 \t| Training Accuracy = 0.9929999709129333\n",
      "Done Training!\n"
     ]
    }
   ],
   "source": [
    "for epoch in range(nr_epochs):\n",
    "    \n",
    "    # ================== Training =========================\n",
    "    for i in range(nr_iterations):\n",
    "        batch_x, batch_y = next_batch(batch_size=size_of_batch, data=x_train, labels=y_train)\n",
    "\n",
    "        feed_dictionary = {X:batch_x, Y:batch_y}\n",
    "\n",
    "        sess.run(train_step, feed_dict=feed_dictionary)\n",
    "\n",
    "    s, batch_accuracy = sess.run(fetches=[merged_summary, accuracy], feed_dict=feed_dictionary)\n",
    "\n",
    "    train_writer.add_summary(s, epoch)\n",
    "    \n",
    "    print(f\"Epoch {epoch} \\t| Training Accuracy = {batch_accuracy}\")\n",
    "\n",
    "    # ======================== Validation ==============================\n",
    "\n",
    "    summary = sess.run(fetches=merged_summary, feed_dict={X:x_val, Y:y_val})\n",
    "    validation_writer.add_summary(summary, epoch)\n",
    "    \n",
    "print(\"Done Training!\")"
   ]
  },
  {
   "cell_type": "markdown",
   "id": "d696e2e5-78d5-436d-af25-9982721ba914",
   "metadata": {},
   "source": [
    "# Make a Prediction"
   ]
  },
  {
   "cell_type": "code",
   "execution_count": 721,
   "id": "c0b7220b-2a72-4658-807c-e75f55569a8c",
   "metadata": {},
   "outputs": [
    {
     "data": {
      "image/png": "[encoded data removed]",
      "text/plain": [
       "<PIL.PngImagePlugin.PngImageFile image mode=RGBA size=28x28>"
      ]
     },
     "execution_count": 721,
     "metadata": {},
     "output_type": "execute_result"
    }
   ],
   "source": [
    "img = Image.open(\"MNIST/test_img.png\")\n",
    "img"
   ]
  },
  {
   "cell_type": "code",
   "execution_count": 722,
   "id": "af6e10eb-87b2-4058-b3e4-b2773f4a7ea7",
   "metadata": {},
   "outputs": [],
   "source": [
    "bw = img.convert(\"L\")"
   ]
  },
  {
   "cell_type": "code",
   "execution_count": 723,
   "id": "9e493612-4c24-4967-831b-fa3fe36e0b1d",
   "metadata": {},
   "outputs": [],
   "source": [
    "img_array = np.invert(bw)"
   ]
  },
  {
   "cell_type": "code",
   "execution_count": 724,
   "id": "c2883ec4-31d4-4e87-a938-69dcc8a56c7b",
   "metadata": {},
   "outputs": [
    {
     "data": {
      "text/plain": [
       "(28, 28)"
      ]
     },
     "execution_count": 724,
     "metadata": {},
     "output_type": "execute_result"
    }
   ],
   "source": [
    "img_array.shape"
   ]
  },
  {
   "cell_type": "code",
   "execution_count": 725,
   "id": "bd708be5-7a0e-47a4-92e7-6fd2b5ddf9a9",
   "metadata": {},
   "outputs": [],
   "source": [
    "test_img = img_array.ravel()"
   ]
  },
  {
   "cell_type": "code",
   "execution_count": 726,
   "id": "c2d4f7b1-fff7-4032-88d4-0ef8a131a7f8",
   "metadata": {},
   "outputs": [
    {
     "data": {
      "text/plain": [
       "(784,)"
      ]
     },
     "execution_count": 726,
     "metadata": {},
     "output_type": "execute_result"
    }
   ],
   "source": [
    "test_img.shape"
   ]
  },
  {
   "cell_type": "code",
   "execution_count": 727,
   "id": "4081b0fd-2f96-4251-b61d-817c769d459f",
   "metadata": {
    "scrolled": true
   },
   "outputs": [],
   "source": [
    "prediction = sess.run(fetches=tf.argmax(output, axis=1), feed_dict={X:[test_img]})"
   ]
  },
  {
   "cell_type": "code",
   "execution_count": 728,
   "id": "f8b8f4e2-6a57-4bd6-b6fe-6cc4631ff8b6",
   "metadata": {},
   "outputs": [
    {
     "name": "stdout",
     "output_type": "stream",
     "text": [
      "Prediction for test image is [2]\n"
     ]
    }
   ],
   "source": [
    "print(f\"Prediction for test image is {prediction}\")"
   ]
  },
  {
   "cell_type": "markdown",
   "id": "c54627c2-38d7-42d9-9968-10a1fb06446f",
   "metadata": {},
   "source": [
    "# Testing and Evaluation"
   ]
  },
  {
   "cell_type": "code",
   "execution_count": 731,
   "id": "3450e726-8fae-4759-909b-0ce739e2c872",
   "metadata": {},
   "outputs": [
    {
     "name": "stdout",
     "output_type": "stream",
     "text": [
      "Accuracy on test set is 97.74%\n"
     ]
    }
   ],
   "source": [
    "test_accuracy = sess.run(fetches=accuracy, feed_dict={X:x_test, Y:y_test})\n",
    "print(f\"Accuracy on test set is {test_accuracy:0.2%}\")"
   ]
  },
  {
   "cell_type": "markdown",
   "id": "92d86cab-ec77-4baa-94be-4a861a23781d",
   "metadata": {},
   "source": [
    "# Reset for the Next Run"
   ]
  },
  {
   "cell_type": "code",
   "execution_count": 734,
   "id": "33938bef-c11c-4a55-a909-3fca337a2415",
   "metadata": {},
   "outputs": [],
   "source": [
    "train_writer.close()\n",
    "validation_writer.close()\n",
    "sess.close()\n",
    "tf.compat.v1.reset_default_graph()"
   ]
  },
  {
   "cell_type": "markdown",
   "id": "4b074357-82d3-4404-bec5-be2e93d9595e",
   "metadata": {},
   "source": [
    "# Code for 1st Part of Module"
   ]
  },
  {
   "cell_type": "code",
   "execution_count": null,
   "id": "3e17d106-daa7-47d7-92cb-b8a6e38256a7",
   "metadata": {},
   "outputs": [],
   "source": [
    "# with tf.name_scope(\"hidden_1\"):\n",
    "#     #Initial weights\n",
    "#     initial_w1 = tf.compat.v1.truncated_normal(shape=[TOTAL_INPUTS, n_hidden1], stddev=0.1, seed=42)\n",
    "#     w1 = tf.Variable(initial_value=initial_w1, name=\"w1\")\n",
    "#     #Initial bias\n",
    "#     initial_b1 = tf.constant(value=0.0, shape=[n_hidden1])\n",
    "#     b1 = tf.Variable(initial_value=initial_b1, name=\"b1\")\n",
    "#     layer1_in = tf.matmul(X, w1) + b1\n",
    "#     layer1_out = tf.nn.relu(layer1_in)"
   ]
  },
  {
   "cell_type": "code",
   "execution_count": null,
   "id": "f80f330c-7395-48a5-bfd4-52a7c65b1218",
   "metadata": {},
   "outputs": [],
   "source": [
    "# #Second hidden layer\n",
    "# with tf.name_scope(\"hidden_2\"):\n",
    "#     initial_w2 = tf.compat.v1.truncated_normal(shape=[n_hidden1, n_hidden2], stddev=0.1, seed=42)\n",
    "#     w2 = tf.Variable(initial_value=initial_w2, name=\"w2\")\n",
    "    \n",
    "#     initial_b2 = tf.constant(value=0.0, shape=[n_hidden2])\n",
    "#     b2 = tf.Variable(initial_value=initial_b2, name=\"b2\")\n",
    "    \n",
    "#     layer2_in = tf.matmul(layer1_out, w2) + b2\n",
    "#     layer2_out = tf.nn.relu(layer2_in)"
   ]
  },
  {
   "cell_type": "code",
   "execution_count": null,
   "id": "dd4f1d56-2df7-4b0c-b812-c57b07730ef7",
   "metadata": {},
   "outputs": [],
   "source": [
    "# # Output layer\n",
    "# with tf.name_scope(\"otuput_layer\"):\n",
    "#     initial_w3 = tf.compat.v1.truncated_normal(shape=[n_hidden2, NR_CLASSES], stddev=0.1, seed=42)\n",
    "#     w3 = tf.Variable(initial_value=initial_w3, name=\"w3\")\n",
    "    \n",
    "#     initial_b3 = tf.constant(value=0.0, shape=[NR_CLASSES])\n",
    "#     b3 = tf.Variable(initial_value=initial_b3, name=\"b3\")\n",
    "    \n",
    "#     layer3_in = tf.matmul(layer2_out, w3) + b3\n",
    "#     output = tf.nn.softmax(layer3_in)"
   ]
  },
  {
   "cell_type": "code",
   "execution_count": null,
   "id": "b38f5f5b-3242-40a2-b884-51872fa8378f",
   "metadata": {},
   "outputs": [],
   "source": [
    "# w1.eval(sess)"
   ]
  }
 ],
 "metadata": {
  "kernelspec": {
   "display_name": "Python 3 (ipykernel)",
   "language": "python",
   "name": "python3"
  },
  "language_info": {
   "codemirror_mode": {
    "name": "ipython",
    "version": 3
   },
   "file_extension": ".py",
   "mimetype": "text/x-python",
   "name": "python",
   "nbconvert_exporter": "python",
   "pygments_lexer": "ipython3",
   "version": "3.12.4"
  }
 },
 "nbformat": 4,
 "nbformat_minor": 5
}
